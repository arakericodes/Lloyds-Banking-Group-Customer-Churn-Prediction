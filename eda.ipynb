{
 "cells": [
  {
   "cell_type": "code",
   "execution_count": 108,
   "id": "f31e40b4",
   "metadata": {},
   "outputs": [],
   "source": [
    "import pandas as pd\n",
    "import numpy as np\n",
    "import matplotlib.pyplot as plt\n",
    "import seaborn as sns"
   ]
  },
  {
   "cell_type": "code",
   "execution_count": 109,
   "id": "8adc008c",
   "metadata": {},
   "outputs": [],
   "source": [
    "df = pd.read_csv('Customer_Churn_Data_Large.csv', sep=',')"
   ]
  },
  {
   "cell_type": "code",
   "execution_count": 110,
   "id": "61957077",
   "metadata": {},
   "outputs": [
    {
     "data": {
      "text/plain": [
       "Index(['CustomerID', 'Age', 'Gender', 'MaritalStatus', 'IncomeLevel'], dtype='object')"
      ]
     },
     "execution_count": 110,
     "metadata": {},
     "output_type": "execute_result"
    }
   ],
   "source": [
    "df.columns"
   ]
  },
  {
   "cell_type": "markdown",
   "id": "13654350",
   "metadata": {},
   "source": [
    "AGE"
   ]
  },
  {
   "cell_type": "code",
   "execution_count": 111,
   "id": "79a011e1",
   "metadata": {},
   "outputs": [],
   "source": [
    "age_mean = df['Age'].mean()\n",
    "age_median = df['Age'].median()\n",
    "age_mode = df['Age'].mode()"
   ]
  },
  {
   "cell_type": "code",
   "execution_count": 112,
   "id": "2d8e6ccd",
   "metadata": {},
   "outputs": [
    {
     "data": {
      "text/plain": [
       "Age\n",
       "21    30\n",
       "23    26\n",
       "54    26\n",
       "18    24\n",
       "53    24\n",
       "68    24\n",
       "69    23\n",
       "25    22\n",
       "48    22\n",
       "37    22\n",
       "41    22\n",
       "38    22\n",
       "30    22\n",
       "45    21\n",
       "64    21\n",
       "63    21\n",
       "27    21\n",
       "36    20\n",
       "61    20\n",
       "47    20\n",
       "42    20\n",
       "59    20\n",
       "24    20\n",
       "34    20\n",
       "52    19\n",
       "51    19\n",
       "56    19\n",
       "28    19\n",
       "66    19\n",
       "44    19\n",
       "46    19\n",
       "58    18\n",
       "33    18\n",
       "67    18\n",
       "26    18\n",
       "50    18\n",
       "43    18\n",
       "57    17\n",
       "19    17\n",
       "55    17\n",
       "35    17\n",
       "31    16\n",
       "20    16\n",
       "22    16\n",
       "29    15\n",
       "39    15\n",
       "62    14\n",
       "60    14\n",
       "65    14\n",
       "40    13\n",
       "32    13\n",
       "49    12\n",
       "Name: count, dtype: int64"
      ]
     },
     "execution_count": 112,
     "metadata": {},
     "output_type": "execute_result"
    }
   ],
   "source": [
    "df['Age'].value_counts()"
   ]
  },
  {
   "cell_type": "code",
   "execution_count": 113,
   "id": "e63f501a",
   "metadata": {},
   "outputs": [
    {
     "name": "stdout",
     "output_type": "stream",
     "text": [
      "43.267\n",
      "43.0\n",
      "0    21\n",
      "Name: Age, dtype: int64\n"
     ]
    }
   ],
   "source": [
    "print(age_mean)\n",
    "print(age_median)\n",
    "print(age_mode)"
   ]
  },
  {
   "cell_type": "markdown",
   "id": "496bdfe1",
   "metadata": {},
   "source": [
    "GENDER"
   ]
  },
  {
   "cell_type": "code",
   "execution_count": 114,
   "id": "4d909db9",
   "metadata": {},
   "outputs": [
    {
     "data": {
      "text/plain": [
       "array(['M', 'F'], dtype=object)"
      ]
     },
     "execution_count": 114,
     "metadata": {},
     "output_type": "execute_result"
    }
   ],
   "source": [
    "df['Gender'].unique()"
   ]
  },
  {
   "cell_type": "code",
   "execution_count": 115,
   "id": "a0a70598",
   "metadata": {},
   "outputs": [
    {
     "data": {
      "text/plain": [
       "Gender\n",
       "F    513\n",
       "M    487\n",
       "Name: count, dtype: int64"
      ]
     },
     "execution_count": 115,
     "metadata": {},
     "output_type": "execute_result"
    }
   ],
   "source": [
    "df['Gender'].value_counts()"
   ]
  },
  {
   "cell_type": "markdown",
   "id": "0a955299",
   "metadata": {},
   "source": [
    "MARITIAL STATUS"
   ]
  },
  {
   "cell_type": "code",
   "execution_count": 116,
   "id": "2c14ac24",
   "metadata": {},
   "outputs": [
    {
     "data": {
      "text/plain": [
       "array(['Single', 'Married', 'Widowed', 'Divorced'], dtype=object)"
      ]
     },
     "execution_count": 116,
     "metadata": {},
     "output_type": "execute_result"
    }
   ],
   "source": [
    "df['MaritalStatus'].unique()"
   ]
  },
  {
   "cell_type": "code",
   "execution_count": 117,
   "id": "0a373efe",
   "metadata": {},
   "outputs": [
    {
     "data": {
      "text/plain": [
       "MaritalStatus\n",
       "Widowed     276\n",
       "Married     261\n",
       "Divorced    248\n",
       "Single      215\n",
       "Name: count, dtype: int64"
      ]
     },
     "execution_count": 117,
     "metadata": {},
     "output_type": "execute_result"
    }
   ],
   "source": [
    "df['MaritalStatus'].value_counts()"
   ]
  },
  {
   "cell_type": "markdown",
   "id": "c4506b7f",
   "metadata": {},
   "source": [
    "Income Level"
   ]
  },
  {
   "cell_type": "code",
   "execution_count": 118,
   "id": "2af5fabf",
   "metadata": {},
   "outputs": [
    {
     "data": {
      "text/plain": [
       "array(['Low', 'Medium', 'High'], dtype=object)"
      ]
     },
     "execution_count": 118,
     "metadata": {},
     "output_type": "execute_result"
    }
   ],
   "source": [
    "df['IncomeLevel'].unique()"
   ]
  },
  {
   "cell_type": "code",
   "execution_count": 119,
   "id": "9f77b529",
   "metadata": {},
   "outputs": [
    {
     "data": {
      "text/plain": [
       "IncomeLevel\n",
       "High      349\n",
       "Medium    326\n",
       "Low       325\n",
       "Name: count, dtype: int64"
      ]
     },
     "execution_count": 119,
     "metadata": {},
     "output_type": "execute_result"
    }
   ],
   "source": [
    "df['IncomeLevel'].value_counts()"
   ]
  },
  {
   "cell_type": "code",
   "execution_count": 120,
   "id": "e96e5978",
   "metadata": {},
   "outputs": [
    {
     "data": {
      "text/html": [
       "<div>\n",
       "<style scoped>\n",
       "    .dataframe tbody tr th:only-of-type {\n",
       "        vertical-align: middle;\n",
       "    }\n",
       "\n",
       "    .dataframe tbody tr th {\n",
       "        vertical-align: top;\n",
       "    }\n",
       "\n",
       "    .dataframe thead th {\n",
       "        text-align: right;\n",
       "    }\n",
       "</style>\n",
       "<table border=\"1\" class=\"dataframe\">\n",
       "  <thead>\n",
       "    <tr style=\"text-align: right;\">\n",
       "      <th></th>\n",
       "      <th>CustomerID</th>\n",
       "      <th>Age</th>\n",
       "      <th>Gender</th>\n",
       "      <th>MaritalStatus</th>\n",
       "      <th>IncomeLevel</th>\n",
       "    </tr>\n",
       "  </thead>\n",
       "  <tbody>\n",
       "    <tr>\n",
       "      <th>0</th>\n",
       "      <td>1</td>\n",
       "      <td>62</td>\n",
       "      <td>M</td>\n",
       "      <td>Single</td>\n",
       "      <td>Low</td>\n",
       "    </tr>\n",
       "    <tr>\n",
       "      <th>1</th>\n",
       "      <td>2</td>\n",
       "      <td>65</td>\n",
       "      <td>M</td>\n",
       "      <td>Married</td>\n",
       "      <td>Low</td>\n",
       "    </tr>\n",
       "    <tr>\n",
       "      <th>2</th>\n",
       "      <td>3</td>\n",
       "      <td>18</td>\n",
       "      <td>M</td>\n",
       "      <td>Single</td>\n",
       "      <td>Low</td>\n",
       "    </tr>\n",
       "    <tr>\n",
       "      <th>3</th>\n",
       "      <td>4</td>\n",
       "      <td>21</td>\n",
       "      <td>M</td>\n",
       "      <td>Widowed</td>\n",
       "      <td>Low</td>\n",
       "    </tr>\n",
       "    <tr>\n",
       "      <th>4</th>\n",
       "      <td>5</td>\n",
       "      <td>21</td>\n",
       "      <td>M</td>\n",
       "      <td>Divorced</td>\n",
       "      <td>Medium</td>\n",
       "    </tr>\n",
       "    <tr>\n",
       "      <th>...</th>\n",
       "      <td>...</td>\n",
       "      <td>...</td>\n",
       "      <td>...</td>\n",
       "      <td>...</td>\n",
       "      <td>...</td>\n",
       "    </tr>\n",
       "    <tr>\n",
       "      <th>995</th>\n",
       "      <td>996</td>\n",
       "      <td>54</td>\n",
       "      <td>F</td>\n",
       "      <td>Single</td>\n",
       "      <td>Low</td>\n",
       "    </tr>\n",
       "    <tr>\n",
       "      <th>996</th>\n",
       "      <td>997</td>\n",
       "      <td>19</td>\n",
       "      <td>M</td>\n",
       "      <td>Widowed</td>\n",
       "      <td>High</td>\n",
       "    </tr>\n",
       "    <tr>\n",
       "      <th>997</th>\n",
       "      <td>998</td>\n",
       "      <td>47</td>\n",
       "      <td>M</td>\n",
       "      <td>Married</td>\n",
       "      <td>Low</td>\n",
       "    </tr>\n",
       "    <tr>\n",
       "      <th>998</th>\n",
       "      <td>999</td>\n",
       "      <td>23</td>\n",
       "      <td>M</td>\n",
       "      <td>Widowed</td>\n",
       "      <td>High</td>\n",
       "    </tr>\n",
       "    <tr>\n",
       "      <th>999</th>\n",
       "      <td>1000</td>\n",
       "      <td>34</td>\n",
       "      <td>M</td>\n",
       "      <td>Widowed</td>\n",
       "      <td>Low</td>\n",
       "    </tr>\n",
       "  </tbody>\n",
       "</table>\n",
       "<p>1000 rows × 5 columns</p>\n",
       "</div>"
      ],
      "text/plain": [
       "     CustomerID  Age Gender MaritalStatus IncomeLevel\n",
       "0             1   62      M        Single         Low\n",
       "1             2   65      M       Married         Low\n",
       "2             3   18      M        Single         Low\n",
       "3             4   21      M       Widowed         Low\n",
       "4             5   21      M      Divorced      Medium\n",
       "..          ...  ...    ...           ...         ...\n",
       "995         996   54      F        Single         Low\n",
       "996         997   19      M       Widowed        High\n",
       "997         998   47      M       Married         Low\n",
       "998         999   23      M       Widowed        High\n",
       "999        1000   34      M       Widowed         Low\n",
       "\n",
       "[1000 rows x 5 columns]"
      ]
     },
     "execution_count": 120,
     "metadata": {},
     "output_type": "execute_result"
    }
   ],
   "source": [
    "df"
   ]
  },
  {
   "cell_type": "code",
   "execution_count": 121,
   "id": "62aaefb6",
   "metadata": {},
   "outputs": [],
   "source": [
    "df_copy =df.copy()"
   ]
  },
  {
   "cell_type": "code",
   "execution_count": 122,
   "id": "fd014092",
   "metadata": {},
   "outputs": [
    {
     "data": {
      "text/html": [
       "<div>\n",
       "<style scoped>\n",
       "    .dataframe tbody tr th:only-of-type {\n",
       "        vertical-align: middle;\n",
       "    }\n",
       "\n",
       "    .dataframe tbody tr th {\n",
       "        vertical-align: top;\n",
       "    }\n",
       "\n",
       "    .dataframe thead th {\n",
       "        text-align: right;\n",
       "    }\n",
       "</style>\n",
       "<table border=\"1\" class=\"dataframe\">\n",
       "  <thead>\n",
       "    <tr style=\"text-align: right;\">\n",
       "      <th></th>\n",
       "      <th>CustomerID</th>\n",
       "      <th>Age</th>\n",
       "      <th>Gender</th>\n",
       "      <th>MaritalStatus</th>\n",
       "      <th>IncomeLevel</th>\n",
       "    </tr>\n",
       "  </thead>\n",
       "  <tbody>\n",
       "    <tr>\n",
       "      <th>0</th>\n",
       "      <td>1</td>\n",
       "      <td>62</td>\n",
       "      <td>M</td>\n",
       "      <td>Single</td>\n",
       "      <td>Low</td>\n",
       "    </tr>\n",
       "    <tr>\n",
       "      <th>1</th>\n",
       "      <td>2</td>\n",
       "      <td>65</td>\n",
       "      <td>M</td>\n",
       "      <td>Married</td>\n",
       "      <td>Low</td>\n",
       "    </tr>\n",
       "    <tr>\n",
       "      <th>2</th>\n",
       "      <td>3</td>\n",
       "      <td>18</td>\n",
       "      <td>M</td>\n",
       "      <td>Single</td>\n",
       "      <td>Low</td>\n",
       "    </tr>\n",
       "    <tr>\n",
       "      <th>3</th>\n",
       "      <td>4</td>\n",
       "      <td>21</td>\n",
       "      <td>M</td>\n",
       "      <td>Widowed</td>\n",
       "      <td>Low</td>\n",
       "    </tr>\n",
       "    <tr>\n",
       "      <th>4</th>\n",
       "      <td>5</td>\n",
       "      <td>21</td>\n",
       "      <td>M</td>\n",
       "      <td>Divorced</td>\n",
       "      <td>Medium</td>\n",
       "    </tr>\n",
       "    <tr>\n",
       "      <th>...</th>\n",
       "      <td>...</td>\n",
       "      <td>...</td>\n",
       "      <td>...</td>\n",
       "      <td>...</td>\n",
       "      <td>...</td>\n",
       "    </tr>\n",
       "    <tr>\n",
       "      <th>995</th>\n",
       "      <td>996</td>\n",
       "      <td>54</td>\n",
       "      <td>F</td>\n",
       "      <td>Single</td>\n",
       "      <td>Low</td>\n",
       "    </tr>\n",
       "    <tr>\n",
       "      <th>996</th>\n",
       "      <td>997</td>\n",
       "      <td>19</td>\n",
       "      <td>M</td>\n",
       "      <td>Widowed</td>\n",
       "      <td>High</td>\n",
       "    </tr>\n",
       "    <tr>\n",
       "      <th>997</th>\n",
       "      <td>998</td>\n",
       "      <td>47</td>\n",
       "      <td>M</td>\n",
       "      <td>Married</td>\n",
       "      <td>Low</td>\n",
       "    </tr>\n",
       "    <tr>\n",
       "      <th>998</th>\n",
       "      <td>999</td>\n",
       "      <td>23</td>\n",
       "      <td>M</td>\n",
       "      <td>Widowed</td>\n",
       "      <td>High</td>\n",
       "    </tr>\n",
       "    <tr>\n",
       "      <th>999</th>\n",
       "      <td>1000</td>\n",
       "      <td>34</td>\n",
       "      <td>M</td>\n",
       "      <td>Widowed</td>\n",
       "      <td>Low</td>\n",
       "    </tr>\n",
       "  </tbody>\n",
       "</table>\n",
       "<p>1000 rows × 5 columns</p>\n",
       "</div>"
      ],
      "text/plain": [
       "     CustomerID  Age Gender MaritalStatus IncomeLevel\n",
       "0             1   62      M        Single         Low\n",
       "1             2   65      M       Married         Low\n",
       "2             3   18      M        Single         Low\n",
       "3             4   21      M       Widowed         Low\n",
       "4             5   21      M      Divorced      Medium\n",
       "..          ...  ...    ...           ...         ...\n",
       "995         996   54      F        Single         Low\n",
       "996         997   19      M       Widowed        High\n",
       "997         998   47      M       Married         Low\n",
       "998         999   23      M       Widowed        High\n",
       "999        1000   34      M       Widowed         Low\n",
       "\n",
       "[1000 rows x 5 columns]"
      ]
     },
     "execution_count": 122,
     "metadata": {},
     "output_type": "execute_result"
    }
   ],
   "source": [
    "df_copy"
   ]
  },
  {
   "cell_type": "code",
   "execution_count": 123,
   "id": "7359ef3b",
   "metadata": {},
   "outputs": [],
   "source": [
    "df_copy.drop('CustomerID', axis=1, inplace=True)"
   ]
  },
  {
   "cell_type": "code",
   "execution_count": 124,
   "id": "d5811c7e",
   "metadata": {},
   "outputs": [
    {
     "data": {
      "text/html": [
       "<div>\n",
       "<style scoped>\n",
       "    .dataframe tbody tr th:only-of-type {\n",
       "        vertical-align: middle;\n",
       "    }\n",
       "\n",
       "    .dataframe tbody tr th {\n",
       "        vertical-align: top;\n",
       "    }\n",
       "\n",
       "    .dataframe thead th {\n",
       "        text-align: right;\n",
       "    }\n",
       "</style>\n",
       "<table border=\"1\" class=\"dataframe\">\n",
       "  <thead>\n",
       "    <tr style=\"text-align: right;\">\n",
       "      <th></th>\n",
       "      <th>Age</th>\n",
       "      <th>Gender</th>\n",
       "      <th>MaritalStatus</th>\n",
       "      <th>IncomeLevel</th>\n",
       "    </tr>\n",
       "  </thead>\n",
       "  <tbody>\n",
       "    <tr>\n",
       "      <th>0</th>\n",
       "      <td>62</td>\n",
       "      <td>M</td>\n",
       "      <td>Single</td>\n",
       "      <td>Low</td>\n",
       "    </tr>\n",
       "    <tr>\n",
       "      <th>1</th>\n",
       "      <td>65</td>\n",
       "      <td>M</td>\n",
       "      <td>Married</td>\n",
       "      <td>Low</td>\n",
       "    </tr>\n",
       "    <tr>\n",
       "      <th>2</th>\n",
       "      <td>18</td>\n",
       "      <td>M</td>\n",
       "      <td>Single</td>\n",
       "      <td>Low</td>\n",
       "    </tr>\n",
       "    <tr>\n",
       "      <th>3</th>\n",
       "      <td>21</td>\n",
       "      <td>M</td>\n",
       "      <td>Widowed</td>\n",
       "      <td>Low</td>\n",
       "    </tr>\n",
       "    <tr>\n",
       "      <th>4</th>\n",
       "      <td>21</td>\n",
       "      <td>M</td>\n",
       "      <td>Divorced</td>\n",
       "      <td>Medium</td>\n",
       "    </tr>\n",
       "    <tr>\n",
       "      <th>...</th>\n",
       "      <td>...</td>\n",
       "      <td>...</td>\n",
       "      <td>...</td>\n",
       "      <td>...</td>\n",
       "    </tr>\n",
       "    <tr>\n",
       "      <th>995</th>\n",
       "      <td>54</td>\n",
       "      <td>F</td>\n",
       "      <td>Single</td>\n",
       "      <td>Low</td>\n",
       "    </tr>\n",
       "    <tr>\n",
       "      <th>996</th>\n",
       "      <td>19</td>\n",
       "      <td>M</td>\n",
       "      <td>Widowed</td>\n",
       "      <td>High</td>\n",
       "    </tr>\n",
       "    <tr>\n",
       "      <th>997</th>\n",
       "      <td>47</td>\n",
       "      <td>M</td>\n",
       "      <td>Married</td>\n",
       "      <td>Low</td>\n",
       "    </tr>\n",
       "    <tr>\n",
       "      <th>998</th>\n",
       "      <td>23</td>\n",
       "      <td>M</td>\n",
       "      <td>Widowed</td>\n",
       "      <td>High</td>\n",
       "    </tr>\n",
       "    <tr>\n",
       "      <th>999</th>\n",
       "      <td>34</td>\n",
       "      <td>M</td>\n",
       "      <td>Widowed</td>\n",
       "      <td>Low</td>\n",
       "    </tr>\n",
       "  </tbody>\n",
       "</table>\n",
       "<p>1000 rows × 4 columns</p>\n",
       "</div>"
      ],
      "text/plain": [
       "     Age Gender MaritalStatus IncomeLevel\n",
       "0     62      M        Single         Low\n",
       "1     65      M       Married         Low\n",
       "2     18      M        Single         Low\n",
       "3     21      M       Widowed         Low\n",
       "4     21      M      Divorced      Medium\n",
       "..   ...    ...           ...         ...\n",
       "995   54      F        Single         Low\n",
       "996   19      M       Widowed        High\n",
       "997   47      M       Married         Low\n",
       "998   23      M       Widowed        High\n",
       "999   34      M       Widowed         Low\n",
       "\n",
       "[1000 rows x 4 columns]"
      ]
     },
     "execution_count": 124,
     "metadata": {},
     "output_type": "execute_result"
    }
   ],
   "source": [
    "df_copy"
   ]
  },
  {
   "cell_type": "code",
   "execution_count": 143,
   "id": "8a37de3f",
   "metadata": {},
   "outputs": [],
   "source": [
    "from sklearn.preprocessing import StandardScaler, LabelEncoder, OneHotEncoder, OrdinalEncoder\n",
    "s = StandardScaler()\n",
    "l = LabelEncoder()\n",
    "o = OneHotEncoder(sparse_output=False)\n",
    "ord = OrdinalEncoder()"
   ]
  },
  {
   "cell_type": "code",
   "execution_count": 127,
   "id": "727d56e1",
   "metadata": {},
   "outputs": [],
   "source": [
    "df_copy[['Age']] = s.fit_transform(df_copy[['Age']])"
   ]
  },
  {
   "cell_type": "code",
   "execution_count": 131,
   "id": "fc7e77ec",
   "metadata": {},
   "outputs": [],
   "source": [
    "df_copy['Gender'] = l.fit_transform(df_copy['Gender'])"
   ]
  },
  {
   "cell_type": "code",
   "execution_count": 144,
   "id": "f8a7717a",
   "metadata": {},
   "outputs": [],
   "source": [
    "encoded_marital = o.fit_transform(df_copy[['MaritalStatus']])"
   ]
  },
  {
   "cell_type": "code",
   "execution_count": 145,
   "id": "f2d3fb6c",
   "metadata": {},
   "outputs": [],
   "source": [
    "encoded_df = pd.DataFrame(encoded_marital, columns=o.get_feature_names_out())"
   ]
  },
  {
   "cell_type": "code",
   "execution_count": 146,
   "id": "7cd663db",
   "metadata": {},
   "outputs": [
    {
     "data": {
      "text/html": [
       "<div>\n",
       "<style scoped>\n",
       "    .dataframe tbody tr th:only-of-type {\n",
       "        vertical-align: middle;\n",
       "    }\n",
       "\n",
       "    .dataframe tbody tr th {\n",
       "        vertical-align: top;\n",
       "    }\n",
       "\n",
       "    .dataframe thead th {\n",
       "        text-align: right;\n",
       "    }\n",
       "</style>\n",
       "<table border=\"1\" class=\"dataframe\">\n",
       "  <thead>\n",
       "    <tr style=\"text-align: right;\">\n",
       "      <th></th>\n",
       "      <th>MaritalStatus_Divorced</th>\n",
       "      <th>MaritalStatus_Married</th>\n",
       "      <th>MaritalStatus_Single</th>\n",
       "      <th>MaritalStatus_Widowed</th>\n",
       "    </tr>\n",
       "  </thead>\n",
       "  <tbody>\n",
       "    <tr>\n",
       "      <th>0</th>\n",
       "      <td>0.0</td>\n",
       "      <td>0.0</td>\n",
       "      <td>1.0</td>\n",
       "      <td>0.0</td>\n",
       "    </tr>\n",
       "    <tr>\n",
       "      <th>1</th>\n",
       "      <td>0.0</td>\n",
       "      <td>1.0</td>\n",
       "      <td>0.0</td>\n",
       "      <td>0.0</td>\n",
       "    </tr>\n",
       "    <tr>\n",
       "      <th>2</th>\n",
       "      <td>0.0</td>\n",
       "      <td>0.0</td>\n",
       "      <td>1.0</td>\n",
       "      <td>0.0</td>\n",
       "    </tr>\n",
       "    <tr>\n",
       "      <th>3</th>\n",
       "      <td>0.0</td>\n",
       "      <td>0.0</td>\n",
       "      <td>0.0</td>\n",
       "      <td>1.0</td>\n",
       "    </tr>\n",
       "    <tr>\n",
       "      <th>4</th>\n",
       "      <td>1.0</td>\n",
       "      <td>0.0</td>\n",
       "      <td>0.0</td>\n",
       "      <td>0.0</td>\n",
       "    </tr>\n",
       "    <tr>\n",
       "      <th>...</th>\n",
       "      <td>...</td>\n",
       "      <td>...</td>\n",
       "      <td>...</td>\n",
       "      <td>...</td>\n",
       "    </tr>\n",
       "    <tr>\n",
       "      <th>995</th>\n",
       "      <td>0.0</td>\n",
       "      <td>0.0</td>\n",
       "      <td>1.0</td>\n",
       "      <td>0.0</td>\n",
       "    </tr>\n",
       "    <tr>\n",
       "      <th>996</th>\n",
       "      <td>0.0</td>\n",
       "      <td>0.0</td>\n",
       "      <td>0.0</td>\n",
       "      <td>1.0</td>\n",
       "    </tr>\n",
       "    <tr>\n",
       "      <th>997</th>\n",
       "      <td>0.0</td>\n",
       "      <td>1.0</td>\n",
       "      <td>0.0</td>\n",
       "      <td>0.0</td>\n",
       "    </tr>\n",
       "    <tr>\n",
       "      <th>998</th>\n",
       "      <td>0.0</td>\n",
       "      <td>0.0</td>\n",
       "      <td>0.0</td>\n",
       "      <td>1.0</td>\n",
       "    </tr>\n",
       "    <tr>\n",
       "      <th>999</th>\n",
       "      <td>0.0</td>\n",
       "      <td>0.0</td>\n",
       "      <td>0.0</td>\n",
       "      <td>1.0</td>\n",
       "    </tr>\n",
       "  </tbody>\n",
       "</table>\n",
       "<p>1000 rows × 4 columns</p>\n",
       "</div>"
      ],
      "text/plain": [
       "     MaritalStatus_Divorced  MaritalStatus_Married  MaritalStatus_Single  \\\n",
       "0                       0.0                    0.0                   1.0   \n",
       "1                       0.0                    1.0                   0.0   \n",
       "2                       0.0                    0.0                   1.0   \n",
       "3                       0.0                    0.0                   0.0   \n",
       "4                       1.0                    0.0                   0.0   \n",
       "..                      ...                    ...                   ...   \n",
       "995                     0.0                    0.0                   1.0   \n",
       "996                     0.0                    0.0                   0.0   \n",
       "997                     0.0                    1.0                   0.0   \n",
       "998                     0.0                    0.0                   0.0   \n",
       "999                     0.0                    0.0                   0.0   \n",
       "\n",
       "     MaritalStatus_Widowed  \n",
       "0                      0.0  \n",
       "1                      0.0  \n",
       "2                      0.0  \n",
       "3                      1.0  \n",
       "4                      0.0  \n",
       "..                     ...  \n",
       "995                    0.0  \n",
       "996                    1.0  \n",
       "997                    0.0  \n",
       "998                    1.0  \n",
       "999                    1.0  \n",
       "\n",
       "[1000 rows x 4 columns]"
      ]
     },
     "execution_count": 146,
     "metadata": {},
     "output_type": "execute_result"
    }
   ],
   "source": [
    "encoded_df"
   ]
  },
  {
   "cell_type": "code",
   "execution_count": 148,
   "id": "02c3fc0d",
   "metadata": {},
   "outputs": [],
   "source": [
    "df_copy.drop('MaritalStatus',axis=1,  inplace=True)"
   ]
  },
  {
   "cell_type": "code",
   "execution_count": 150,
   "id": "8596fd69",
   "metadata": {},
   "outputs": [],
   "source": [
    "df_copy = df_copy.join(encoded_df)"
   ]
  },
  {
   "cell_type": "code",
   "execution_count": 153,
   "id": "6a8e2f82",
   "metadata": {},
   "outputs": [],
   "source": [
    "df_copy['IncomeLevel'] = ord.fit_transform(df[['IncomeLevel']])"
   ]
  },
  {
   "cell_type": "code",
   "execution_count": 210,
   "id": "dbbfd493",
   "metadata": {},
   "outputs": [],
   "source": [
    "df_copy.to_csv('Updatedcc.csv')"
   ]
  },
  {
   "cell_type": "markdown",
   "id": "40b4b306",
   "metadata": {},
   "source": [
    "INFERENCES"
   ]
  },
  {
   "cell_type": "code",
   "execution_count": 167,
   "id": "be49dd5f",
   "metadata": {},
   "outputs": [
    {
     "data": {
      "text/html": [
       "<div>\n",
       "<style scoped>\n",
       "    .dataframe tbody tr th:only-of-type {\n",
       "        vertical-align: middle;\n",
       "    }\n",
       "\n",
       "    .dataframe tbody tr th {\n",
       "        vertical-align: top;\n",
       "    }\n",
       "\n",
       "    .dataframe thead th {\n",
       "        text-align: right;\n",
       "    }\n",
       "</style>\n",
       "<table border=\"1\" class=\"dataframe\">\n",
       "  <thead>\n",
       "    <tr style=\"text-align: right;\">\n",
       "      <th></th>\n",
       "      <th>Age</th>\n",
       "      <th>Gender</th>\n",
       "      <th>IncomeLevel</th>\n",
       "      <th>MaritalStatus_Divorced</th>\n",
       "      <th>MaritalStatus_Married</th>\n",
       "      <th>MaritalStatus_Single</th>\n",
       "      <th>MaritalStatus_Widowed</th>\n",
       "    </tr>\n",
       "  </thead>\n",
       "  <tbody>\n",
       "    <tr>\n",
       "      <th>Age</th>\n",
       "      <td>1.000000</td>\n",
       "      <td>-0.013497</td>\n",
       "      <td>0.027796</td>\n",
       "      <td>0.000096</td>\n",
       "      <td>0.010288</td>\n",
       "      <td>-0.010568</td>\n",
       "      <td>-0.000488</td>\n",
       "    </tr>\n",
       "    <tr>\n",
       "      <th>Gender</th>\n",
       "      <td>-0.013497</td>\n",
       "      <td>1.000000</td>\n",
       "      <td>-0.011911</td>\n",
       "      <td>0.005671</td>\n",
       "      <td>0.022290</td>\n",
       "      <td>0.011176</td>\n",
       "      <td>-0.037649</td>\n",
       "    </tr>\n",
       "    <tr>\n",
       "      <th>IncomeLevel</th>\n",
       "      <td>0.027796</td>\n",
       "      <td>-0.011911</td>\n",
       "      <td>1.000000</td>\n",
       "      <td>0.007935</td>\n",
       "      <td>-0.041513</td>\n",
       "      <td>0.023137</td>\n",
       "      <td>0.011855</td>\n",
       "    </tr>\n",
       "    <tr>\n",
       "      <th>MaritalStatus_Divorced</th>\n",
       "      <td>0.000096</td>\n",
       "      <td>0.005671</td>\n",
       "      <td>0.007935</td>\n",
       "      <td>1.000000</td>\n",
       "      <td>-0.341283</td>\n",
       "      <td>-0.300539</td>\n",
       "      <td>-0.354570</td>\n",
       "    </tr>\n",
       "    <tr>\n",
       "      <th>MaritalStatus_Married</th>\n",
       "      <td>0.010288</td>\n",
       "      <td>0.022290</td>\n",
       "      <td>-0.041513</td>\n",
       "      <td>-0.341283</td>\n",
       "      <td>1.000000</td>\n",
       "      <td>-0.311016</td>\n",
       "      <td>-0.366930</td>\n",
       "    </tr>\n",
       "    <tr>\n",
       "      <th>MaritalStatus_Single</th>\n",
       "      <td>-0.010568</td>\n",
       "      <td>0.011176</td>\n",
       "      <td>0.023137</td>\n",
       "      <td>-0.300539</td>\n",
       "      <td>-0.311016</td>\n",
       "      <td>1.000000</td>\n",
       "      <td>-0.323124</td>\n",
       "    </tr>\n",
       "    <tr>\n",
       "      <th>MaritalStatus_Widowed</th>\n",
       "      <td>-0.000488</td>\n",
       "      <td>-0.037649</td>\n",
       "      <td>0.011855</td>\n",
       "      <td>-0.354570</td>\n",
       "      <td>-0.366930</td>\n",
       "      <td>-0.323124</td>\n",
       "      <td>1.000000</td>\n",
       "    </tr>\n",
       "  </tbody>\n",
       "</table>\n",
       "</div>"
      ],
      "text/plain": [
       "                             Age    Gender  IncomeLevel  \\\n",
       "Age                     1.000000 -0.013497     0.027796   \n",
       "Gender                 -0.013497  1.000000    -0.011911   \n",
       "IncomeLevel             0.027796 -0.011911     1.000000   \n",
       "MaritalStatus_Divorced  0.000096  0.005671     0.007935   \n",
       "MaritalStatus_Married   0.010288  0.022290    -0.041513   \n",
       "MaritalStatus_Single   -0.010568  0.011176     0.023137   \n",
       "MaritalStatus_Widowed  -0.000488 -0.037649     0.011855   \n",
       "\n",
       "                        MaritalStatus_Divorced  MaritalStatus_Married  \\\n",
       "Age                                   0.000096               0.010288   \n",
       "Gender                                0.005671               0.022290   \n",
       "IncomeLevel                           0.007935              -0.041513   \n",
       "MaritalStatus_Divorced                1.000000              -0.341283   \n",
       "MaritalStatus_Married                -0.341283               1.000000   \n",
       "MaritalStatus_Single                 -0.300539              -0.311016   \n",
       "MaritalStatus_Widowed                -0.354570              -0.366930   \n",
       "\n",
       "                        MaritalStatus_Single  MaritalStatus_Widowed  \n",
       "Age                                -0.010568              -0.000488  \n",
       "Gender                              0.011176              -0.037649  \n",
       "IncomeLevel                         0.023137               0.011855  \n",
       "MaritalStatus_Divorced             -0.300539              -0.354570  \n",
       "MaritalStatus_Married              -0.311016              -0.366930  \n",
       "MaritalStatus_Single                1.000000              -0.323124  \n",
       "MaritalStatus_Widowed              -0.323124               1.000000  "
      ]
     },
     "execution_count": 167,
     "metadata": {},
     "output_type": "execute_result"
    }
   ],
   "source": [
    "df_copy.corr(method='spearman')"
   ]
  },
  {
   "cell_type": "code",
   "execution_count": 160,
   "id": "aed95b88",
   "metadata": {},
   "outputs": [
    {
     "data": {
      "text/plain": [
       "<Axes: >"
      ]
     },
     "execution_count": 160,
     "metadata": {},
     "output_type": "execute_result"
    },
    {
     "data": {
      "image/png": "[encoded data removed]",
      "text/plain": [
       "<Figure size 640x480 with 2 Axes>"
      ]
     },
     "metadata": {},
     "output_type": "display_data"
    }
   ],
   "source": [
    "sns.heatmap(df_copy.corr(method='spearman'))"
   ]
  },
  {
   "cell_type": "code",
   "execution_count": 161,
   "id": "c0992d3f",
   "metadata": {},
   "outputs": [
    {
     "data": {
      "text/plain": [
       "<seaborn.axisgrid.PairGrid at 0x1a20c3a5ac0>"
      ]
     },
     "execution_count": 161,
     "metadata": {},
     "output_type": "execute_result"
    },
    {
     "data": {
      "image/png": "[encoded data removed]",
      "text/plain": [
       "<Figure size 1750x1750 with 56 Axes>"
      ]
     },
     "metadata": {},
     "output_type": "display_data"
    }
   ],
   "source": [
    "sns.pairplot(df_copy)"
   ]
  },
  {
   "cell_type": "code",
   "execution_count": 162,
   "id": "5db05c67",
   "metadata": {},
   "outputs": [
    {
     "data": {
      "text/html": [
       "<div>\n",
       "<style scoped>\n",
       "    .dataframe tbody tr th:only-of-type {\n",
       "        vertical-align: middle;\n",
       "    }\n",
       "\n",
       "    .dataframe tbody tr th {\n",
       "        vertical-align: top;\n",
       "    }\n",
       "\n",
       "    .dataframe thead th {\n",
       "        text-align: right;\n",
       "    }\n",
       "</style>\n",
       "<table border=\"1\" class=\"dataframe\">\n",
       "  <thead>\n",
       "    <tr style=\"text-align: right;\">\n",
       "      <th></th>\n",
       "      <th>CustomerID</th>\n",
       "      <th>Age</th>\n",
       "      <th>Gender</th>\n",
       "      <th>MaritalStatus</th>\n",
       "      <th>IncomeLevel</th>\n",
       "    </tr>\n",
       "  </thead>\n",
       "  <tbody>\n",
       "    <tr>\n",
       "      <th>0</th>\n",
       "      <td>1</td>\n",
       "      <td>62</td>\n",
       "      <td>M</td>\n",
       "      <td>Single</td>\n",
       "      <td>Low</td>\n",
       "    </tr>\n",
       "    <tr>\n",
       "      <th>1</th>\n",
       "      <td>2</td>\n",
       "      <td>65</td>\n",
       "      <td>M</td>\n",
       "      <td>Married</td>\n",
       "      <td>Low</td>\n",
       "    </tr>\n",
       "    <tr>\n",
       "      <th>2</th>\n",
       "      <td>3</td>\n",
       "      <td>18</td>\n",
       "      <td>M</td>\n",
       "      <td>Single</td>\n",
       "      <td>Low</td>\n",
       "    </tr>\n",
       "    <tr>\n",
       "      <th>3</th>\n",
       "      <td>4</td>\n",
       "      <td>21</td>\n",
       "      <td>M</td>\n",
       "      <td>Widowed</td>\n",
       "      <td>Low</td>\n",
       "    </tr>\n",
       "    <tr>\n",
       "      <th>4</th>\n",
       "      <td>5</td>\n",
       "      <td>21</td>\n",
       "      <td>M</td>\n",
       "      <td>Divorced</td>\n",
       "      <td>Medium</td>\n",
       "    </tr>\n",
       "    <tr>\n",
       "      <th>...</th>\n",
       "      <td>...</td>\n",
       "      <td>...</td>\n",
       "      <td>...</td>\n",
       "      <td>...</td>\n",
       "      <td>...</td>\n",
       "    </tr>\n",
       "    <tr>\n",
       "      <th>995</th>\n",
       "      <td>996</td>\n",
       "      <td>54</td>\n",
       "      <td>F</td>\n",
       "      <td>Single</td>\n",
       "      <td>Low</td>\n",
       "    </tr>\n",
       "    <tr>\n",
       "      <th>996</th>\n",
       "      <td>997</td>\n",
       "      <td>19</td>\n",
       "      <td>M</td>\n",
       "      <td>Widowed</td>\n",
       "      <td>High</td>\n",
       "    </tr>\n",
       "    <tr>\n",
       "      <th>997</th>\n",
       "      <td>998</td>\n",
       "      <td>47</td>\n",
       "      <td>M</td>\n",
       "      <td>Married</td>\n",
       "      <td>Low</td>\n",
       "    </tr>\n",
       "    <tr>\n",
       "      <th>998</th>\n",
       "      <td>999</td>\n",
       "      <td>23</td>\n",
       "      <td>M</td>\n",
       "      <td>Widowed</td>\n",
       "      <td>High</td>\n",
       "    </tr>\n",
       "    <tr>\n",
       "      <th>999</th>\n",
       "      <td>1000</td>\n",
       "      <td>34</td>\n",
       "      <td>M</td>\n",
       "      <td>Widowed</td>\n",
       "      <td>Low</td>\n",
       "    </tr>\n",
       "  </tbody>\n",
       "</table>\n",
       "<p>1000 rows × 5 columns</p>\n",
       "</div>"
      ],
      "text/plain": [
       "     CustomerID  Age Gender MaritalStatus IncomeLevel\n",
       "0             1   62      M        Single         Low\n",
       "1             2   65      M       Married         Low\n",
       "2             3   18      M        Single         Low\n",
       "3             4   21      M       Widowed         Low\n",
       "4             5   21      M      Divorced      Medium\n",
       "..          ...  ...    ...           ...         ...\n",
       "995         996   54      F        Single         Low\n",
       "996         997   19      M       Widowed        High\n",
       "997         998   47      M       Married         Low\n",
       "998         999   23      M       Widowed        High\n",
       "999        1000   34      M       Widowed         Low\n",
       "\n",
       "[1000 rows x 5 columns]"
      ]
     },
     "execution_count": 162,
     "metadata": {},
     "output_type": "execute_result"
    }
   ],
   "source": [
    "df"
   ]
  },
  {
   "cell_type": "code",
   "execution_count": 168,
   "id": "941ddd17",
   "metadata": {},
   "outputs": [
    {
     "data": {
      "text/plain": [
       "Age\n",
       "21    30\n",
       "23    26\n",
       "54    26\n",
       "18    24\n",
       "53    24\n",
       "68    24\n",
       "69    23\n",
       "25    22\n",
       "48    22\n",
       "37    22\n",
       "41    22\n",
       "38    22\n",
       "30    22\n",
       "45    21\n",
       "64    21\n",
       "63    21\n",
       "27    21\n",
       "36    20\n",
       "61    20\n",
       "47    20\n",
       "42    20\n",
       "59    20\n",
       "24    20\n",
       "34    20\n",
       "52    19\n",
       "51    19\n",
       "56    19\n",
       "28    19\n",
       "66    19\n",
       "44    19\n",
       "46    19\n",
       "58    18\n",
       "33    18\n",
       "67    18\n",
       "26    18\n",
       "50    18\n",
       "43    18\n",
       "57    17\n",
       "19    17\n",
       "55    17\n",
       "35    17\n",
       "31    16\n",
       "20    16\n",
       "22    16\n",
       "29    15\n",
       "39    15\n",
       "62    14\n",
       "60    14\n",
       "65    14\n",
       "40    13\n",
       "32    13\n",
       "49    12\n",
       "Name: count, dtype: int64"
      ]
     },
     "execution_count": 168,
     "metadata": {},
     "output_type": "execute_result"
    }
   ],
   "source": [
    "df['Age'].value_counts()"
   ]
  },
  {
   "cell_type": "code",
   "execution_count": 169,
   "id": "c78747d1",
   "metadata": {},
   "outputs": [
    {
     "data": {
      "text/plain": [
       "Gender\n",
       "F    513\n",
       "M    487\n",
       "Name: count, dtype: int64"
      ]
     },
     "execution_count": 169,
     "metadata": {},
     "output_type": "execute_result"
    }
   ],
   "source": [
    "df['Gender'].value_counts()"
   ]
  },
  {
   "cell_type": "code",
   "execution_count": 170,
   "id": "12253e6e",
   "metadata": {},
   "outputs": [
    {
     "data": {
      "text/plain": [
       "IncomeLevel\n",
       "High      349\n",
       "Medium    326\n",
       "Low       325\n",
       "Name: count, dtype: int64"
      ]
     },
     "execution_count": 170,
     "metadata": {},
     "output_type": "execute_result"
    }
   ],
   "source": [
    "df['IncomeLevel'].value_counts()"
   ]
  },
  {
   "cell_type": "code",
   "execution_count": 171,
   "id": "5d1753c1",
   "metadata": {},
   "outputs": [
    {
     "data": {
      "text/plain": [
       "MaritalStatus\n",
       "Widowed     276\n",
       "Married     261\n",
       "Divorced    248\n",
       "Single      215\n",
       "Name: count, dtype: int64"
      ]
     },
     "execution_count": 171,
     "metadata": {},
     "output_type": "execute_result"
    }
   ],
   "source": [
    "df['MaritalStatus'].value_counts()"
   ]
  },
  {
   "cell_type": "markdown",
   "id": "b98e09f7",
   "metadata": {},
   "source": [
    "    MARITIAL STATUS BAR PLOT"
   ]
  },
  {
   "cell_type": "code",
   "execution_count": 175,
   "id": "55fb27e5",
   "metadata": {},
   "outputs": [
    {
     "data": {
      "text/plain": [
       "Text(0, 0.5, 'Count')"
      ]
     },
     "execution_count": 175,
     "metadata": {},
     "output_type": "execute_result"
    },
    {
     "data": {
      "image/png": "[encoded data removed]",
      "text/plain": [
       "<Figure size 640x480 with 1 Axes>"
      ]
     },
     "metadata": {},
     "output_type": "display_data"
    }
   ],
   "source": [
    "x = df['MaritalStatus'].unique()\n",
    "y = [276, 261, 248, 215]\n",
    "ax = sns.barplot(x=x,y=y)\n",
    "for container in ax.containers:\n",
    "    ax.bar_label(container, label_type='center')\n",
    "plt.xlabel('Maritial Status')\n",
    "plt.ylabel('Count')"
   ]
  },
  {
   "cell_type": "markdown",
   "id": "f0332070",
   "metadata": {},
   "source": [
    "INCOME LEVEL"
   ]
  },
  {
   "cell_type": "code",
   "execution_count": 176,
   "id": "885ae99e",
   "metadata": {},
   "outputs": [
    {
     "data": {
      "text/plain": [
       "Text(0, 0.5, 'Count')"
      ]
     },
     "execution_count": 176,
     "metadata": {},
     "output_type": "execute_result"
    },
    {
     "data": {
      "image/png": "[encoded data removed]",
      "text/plain": [
       "<Figure size 640x480 with 1 Axes>"
      ]
     },
     "metadata": {},
     "output_type": "display_data"
    }
   ],
   "source": [
    "x = df['IncomeLevel'].unique()\n",
    "y = [ 349,326,325]\n",
    "ax = sns.barplot(x=x,y=y)\n",
    "for container in ax.containers:\n",
    "    ax.bar_label(container, label_type='center')\n",
    "plt.xlabel('Income Level')\n",
    "plt.ylabel('Count')"
   ]
  },
  {
   "cell_type": "markdown",
   "id": "fcc386b6",
   "metadata": {},
   "source": [
    "Gender"
   ]
  },
  {
   "cell_type": "code",
   "execution_count": 177,
   "id": "1f084dc9",
   "metadata": {},
   "outputs": [
    {
     "data": {
      "text/plain": [
       "Text(0, 0.5, 'Count')"
      ]
     },
     "execution_count": 177,
     "metadata": {},
     "output_type": "execute_result"
    },
    {
     "data": {
      "image/png": "[encoded data removed]",
      "text/plain": [
       "<Figure size 640x480 with 1 Axes>"
      ]
     },
     "metadata": {},
     "output_type": "display_data"
    }
   ],
   "source": [
    "x = df['Gender'].unique()\n",
    "y = [513,487]\n",
    "ax = sns.barplot(x=x,y=y)\n",
    "for container in ax.containers:\n",
    "    ax.bar_label(container, label_type='center')\n",
    "plt.xlabel('Gender')\n",
    "plt.ylabel('Count')"
   ]
  },
  {
   "cell_type": "code",
   "execution_count": 206,
   "id": "502fcdb0",
   "metadata": {},
   "outputs": [],
   "source": [
    "x_1  = df['Age'].value_counts().values[:10]\n",
    "y_1 = df['Age'].value_counts().index[:10]"
   ]
  },
  {
   "cell_type": "code",
   "execution_count": 208,
   "id": "cd3b594c",
   "metadata": {},
   "outputs": [
    {
     "data": {
      "text/plain": [
       "Text(0, 0.5, 'Count')"
      ]
     },
     "execution_count": 208,
     "metadata": {},
     "output_type": "execute_result"
    },
    {
     "data": {
      "image/png": "[encoded data removed]",
      "text/plain": [
       "<Figure size 640x480 with 1 Axes>"
      ]
     },
     "metadata": {},
     "output_type": "display_data"
    }
   ],
   "source": [
    "x = y_1 = df['Age'].value_counts().index[:10]\n",
    "y = df['Age'].value_counts().values[:10]\n",
    "ax = sns.barplot(x=x,y=y)\n",
    "for container in ax.containers:\n",
    "    ax.bar_label(container, label_type='center')\n",
    "plt.xlabel('Age')\n",
    "plt.ylabel('Count')"
   ]
  },
  {
   "cell_type": "code",
   "execution_count": null,
   "id": "c5baa06f",
   "metadata": {},
   "outputs": [],
   "source": []
  }
 ],
 "metadata": {
  "kernelspec": {
   "display_name": "base",
   "language": "python",
   "name": "python3"
  },
  "language_info": {
   "codemirror_mode": {
    "name": "ipython",
    "version": 3
   },
   "file_extension": ".py",
   "mimetype": "text/x-python",
   "name": "python",
   "nbconvert_exporter": "python",
   "pygments_lexer": "ipython3",
   "version": "3.12.7"
  }
 },
 "nbformat": 4,
 "nbformat_minor": 5
}
